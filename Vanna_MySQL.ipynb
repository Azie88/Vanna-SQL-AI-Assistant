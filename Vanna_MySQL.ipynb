{
 "cells": [
  {
   "cell_type": "code",
   "execution_count": 7,
   "metadata": {},
   "outputs": [],
   "source": [
    "import os\n",
    "from dotenv import load_dotenv\n",
    "import vanna\n",
    "from vanna.remote import VannaDefault\n",
    "import mysql.connector"
   ]
  },
  {
   "cell_type": "code",
   "execution_count": 8,
   "metadata": {},
   "outputs": [
    {
     "data": {
      "text/plain": [
       "True"
      ]
     },
     "execution_count": 8,
     "metadata": {},
     "output_type": "execute_result"
    }
   ],
   "source": [
    "load_dotenv()"
   ]
  },
  {
   "cell_type": "code",
   "execution_count": 9,
   "metadata": {},
   "outputs": [],
   "source": [
    "vn = VannaDefault(model='db_local', api_key=os.getenv(\"vanna_api_key\"))"
   ]
  },
  {
   "cell_type": "code",
   "execution_count": 10,
   "metadata": {},
   "outputs": [
    {
     "name": "stdout",
     "output_type": "stream",
     "text": [
      "Connected to MySQL database\n"
     ]
    }
   ],
   "source": [
    "# Define your database connection parameters\n",
    "config = {\n",
    "    'user': 'root',\n",
    "    'password': os.getenv(\"MySQL_password\"),\n",
    "    'host': '127.0.0.1',  # localhost\n",
    "    'database': 'inventory',\n",
    "    'raise_on_warnings': True\n",
    "}\n",
    "\n",
    "# Connect to the database\n",
    "try:\n",
    "    connection = mysql.connector.connect(**config)\n",
    "    if connection.is_connected():\n",
    "        print(\"Connected to MySQL database\")\n",
    "except mysql.connector.Error as err:\n",
    "    print(f\"Error: {err}\")"
   ]
  },
  {
   "cell_type": "code",
   "execution_count": 11,
   "metadata": {},
   "outputs": [],
   "source": [
    "import pandas as pd\n",
    "pd.set_option('display.max_colwidth', None)"
   ]
  },
  {
   "cell_type": "code",
   "execution_count": 13,
   "metadata": {},
   "outputs": [],
   "source": [
    "def run_mysql(mysql : str) -> pd.DataFrame:\n",
    "    df = pd.read_sql_query(mysql, connection)\n",
    "    return df"
   ]
  },
  {
   "cell_type": "code",
   "execution_count": 14,
   "metadata": {},
   "outputs": [],
   "source": [
    "vn.run_sql = run_mysql\n",
    "vn.run_sql_is_set=True"
   ]
  },
  {
   "cell_type": "markdown",
   "metadata": {},
   "source": [
    "## Training"
   ]
  },
  {
   "cell_type": "code",
   "execution_count": 29,
   "metadata": {},
   "outputs": [
    {
     "name": "stderr",
     "output_type": "stream",
     "text": [
      "C:\\Users\\jmutonyi\\AppData\\Local\\Temp\\ipykernel_3464\\1837704786.py:2: UserWarning: pandas only supports SQLAlchemy connectable (engine/connection) or database string URI or sqlite3 DBAPI2 connection. Other DBAPI2 objects are not tested. Please consider using SQLAlchemy.\n",
      "  df = pd.read_sql_query(mysql, connection)\n"
     ]
    }
   ],
   "source": [
    "df_information_schema = vn.run_sql(\"\"\"\n",
    "    SELECT *\n",
    "    FROM INFORMATION_SCHEMA.TABLES\n",
    "    WHERE TABLE_SCHEMA = 'inventory'\n",
    "\"\"\")\n",
    "\n",
    "# Generate the training plan\n",
    "plan = vn.get_training_plan_generic(df_information_schema)"
   ]
  },
  {
   "cell_type": "code",
   "execution_count": 30,
   "metadata": {},
   "outputs": [
    {
     "name": "stdout",
     "output_type": "stream",
     "text": [
      "Train on Information Schema: def.inventory item\n",
      "Train on Information Schema: def.inventory item_price\n",
      "Train on Information Schema: def.inventory item_stock\n",
      "Train on Information Schema: def.inventory stockroom\n"
     ]
    }
   ],
   "source": [
    "for table_name in plan.get_summary():\n",
    "    print(table_name)"
   ]
  },
  {
   "cell_type": "code",
   "execution_count": 31,
   "metadata": {},
   "outputs": [],
   "source": [
    "vn.train(plan=plan)"
   ]
  },
  {
   "cell_type": "markdown",
   "metadata": {},
   "source": [
    "### Train on DDL"
   ]
  },
  {
   "cell_type": "code",
   "execution_count": 32,
   "metadata": {},
   "outputs": [
    {
     "name": "stdout",
     "output_type": "stream",
     "text": [
      "Adding ddl: \n",
      "CREATE TABLE IF NOT EXIST item (\n",
      "item_id INT PRIMARY KEY,\n",
      "item_name VARCHAR(150),\n",
      "item_description VARCHAR(150),\n",
      "department_id INT,\n",
      "default_price_id INT,\n",
      "has_expiration INT,\n",
      "concept_id INT,\n",
      "creator INT,\n",
      "date_created DATETIME,\n",
      "changed_by INT,\n",
      "date_changed DATETIME,\n",
      "retired INT,\n",
      "retired_by INT,\n",
      "date_retired DATETIME,\n",
      "retire_reason VARCHAR(50),\n",
      "uuid VARCHAR(100),\n",
      "has_physical_inventory INT,\n",
      "default_expiration_period INT,\n",
      "concept_accepted INT,\n",
      "minimun_quantity INT,\n",
      "buying_price DOUBLE         \n",
      ")\n",
      "\n"
     ]
    },
    {
     "data": {
      "text/plain": [
       "'288380-ddl'"
      ]
     },
     "execution_count": 32,
     "metadata": {},
     "output_type": "execute_result"
    }
   ],
   "source": [
    "vn.train(ddl = \"\"\"\n",
    "CREATE TABLE IF NOT EXIST item (\n",
    "item_id INT PRIMARY KEY,\n",
    "item_name VARCHAR(150),\n",
    "item_description VARCHAR(150),\n",
    "department_id INT,\n",
    "default_price_id INT,\n",
    "has_expiration INT,\n",
    "concept_id INT,\n",
    "creator INT,\n",
    "date_created DATETIME,\n",
    "changed_by INT,\n",
    "date_changed DATETIME,\n",
    "retired INT,\n",
    "retired_by INT,\n",
    "date_retired DATETIME,\n",
    "retire_reason VARCHAR(50),\n",
    "uuid VARCHAR(100),\n",
    "has_physical_inventory INT,\n",
    "default_expiration_period INT,\n",
    "concept_accepted INT,\n",
    "minimun_quantity INT,\n",
    "buying_price DOUBLE         \n",
    ")\n",
    "\"\"\")"
   ]
  },
  {
   "cell_type": "markdown",
   "metadata": {},
   "source": [
    "### Train on Documentation"
   ]
  },
  {
   "cell_type": "code",
   "execution_count": 35,
   "metadata": {},
   "outputs": [
    {
     "name": "stdout",
     "output_type": "stream",
     "text": [
      "Adding documentation....\n"
     ]
    },
    {
     "data": {
      "text/plain": [
       "'1812593-doc'"
      ]
     },
     "execution_count": 35,
     "metadata": {},
     "output_type": "execute_result"
    }
   ],
   "source": [
    "vn.train(documentation=\"This contains item inventory on a healthcare platform such as the item name, buying price, and whether it has physical inventory.\")"
   ]
  },
  {
   "cell_type": "markdown",
   "metadata": {},
   "source": [
    "### Train on SQL query"
   ]
  },
  {
   "cell_type": "code",
   "execution_count": 37,
   "metadata": {},
   "outputs": [
    {
     "data": {
      "text/plain": [
       "'59de8a4c5423505eed60540bb7e26b7f-sql'"
      ]
     },
     "execution_count": 37,
     "metadata": {},
     "output_type": "execute_result"
    }
   ],
   "source": [
    "vn.train(question=\"What are the item names of the items that do not have physical inventory?\",\n",
    "         sql = \"SELECT item_name * FROM item WHERE has_physical_inventory = 0'\")"
   ]
  },
  {
   "cell_type": "code",
   "execution_count": 38,
   "metadata": {},
   "outputs": [
    {
     "data": {
      "text/html": [
       "<div>\n",
       "<style scoped>\n",
       "    .dataframe tbody tr th:only-of-type {\n",
       "        vertical-align: middle;\n",
       "    }\n",
       "\n",
       "    .dataframe tbody tr th {\n",
       "        vertical-align: top;\n",
       "    }\n",
       "\n",
       "    .dataframe thead th {\n",
       "        text-align: right;\n",
       "    }\n",
       "</style>\n",
       "<table border=\"1\" class=\"dataframe\">\n",
       "  <thead>\n",
       "    <tr style=\"text-align: right;\">\n",
       "      <th></th>\n",
       "      <th>id</th>\n",
       "      <th>training_data_type</th>\n",
       "      <th>question</th>\n",
       "      <th>content</th>\n",
       "    </tr>\n",
       "  </thead>\n",
       "  <tbody>\n",
       "    <tr>\n",
       "      <th>0</th>\n",
       "      <td>405322-sql</td>\n",
       "      <td>sql</td>\n",
       "      <td>What are the item names of the items that do not have physical inventory?</td>\n",
       "      <td>SELECT item_name * FROM item WHERE has_physical_inventory = 0'</td>\n",
       "    </tr>\n",
       "    <tr>\n",
       "      <th>1</th>\n",
       "      <td>1812006-doc</td>\n",
       "      <td>documentation</td>\n",
       "      <td>None</td>\n",
       "      <td>The following columns are in the item_stock table in the def database:\\n\\n|    | TABLE_CATALOG   | TABLE_SCHEMA   | TABLE_NAME   | TABLE_COMMENT   |\\n|---:|:----------------|:---------------|:-------------|:----------------|\\n|  2 | def             | inventory      | item_stock   |                 |</td>\n",
       "    </tr>\n",
       "    <tr>\n",
       "      <th>2</th>\n",
       "      <td>1812005-doc</td>\n",
       "      <td>documentation</td>\n",
       "      <td>None</td>\n",
       "      <td>The following columns are in the item_price table in the def database:\\n\\n|    | TABLE_CATALOG   | TABLE_SCHEMA   | TABLE_NAME   | TABLE_COMMENT   |\\n|---:|:----------------|:---------------|:-------------|:----------------|\\n|  1 | def             | inventory      | item_price   |                 |</td>\n",
       "    </tr>\n",
       "    <tr>\n",
       "      <th>3</th>\n",
       "      <td>1812593-doc</td>\n",
       "      <td>documentation</td>\n",
       "      <td>None</td>\n",
       "      <td>This contains item inventory on a healthcare platform such as the item name, buying price, and whether it has physical inventory.</td>\n",
       "    </tr>\n",
       "    <tr>\n",
       "      <th>4</th>\n",
       "      <td>288380-ddl</td>\n",
       "      <td>ddl</td>\n",
       "      <td>None</td>\n",
       "      <td>\\nCREATE TABLE IF NOT EXIST item (\\nitem_id INT PRIMARY KEY,\\nitem_name VARCHAR(150),\\nitem_description VARCHAR(150),\\ndepartment_id INT,\\ndefault_price_id INT,\\nhas_expiration INT,\\nconcept_id INT,\\ncreator INT,\\ndate_created DATETIME,\\nchanged_by INT,\\ndate_changed DATETIME,\\nretired INT,\\nretired_by INT,\\ndate_retired DATETIME,\\nretire_reason VARCHAR(50),\\nuuid VARCHAR(100),\\nhas_physical_inventory INT,\\ndefault_expiration_period INT,\\nconcept_accepted INT,\\nminimun_quantity INT,\\nbuying_price DOUBLE         \\n)\\n</td>\n",
       "    </tr>\n",
       "    <tr>\n",
       "      <th>5</th>\n",
       "      <td>1812004-doc</td>\n",
       "      <td>documentation</td>\n",
       "      <td>None</td>\n",
       "      <td>The following columns are in the item table in the def database:\\n\\n|    | TABLE_CATALOG   | TABLE_SCHEMA   | TABLE_NAME   | TABLE_COMMENT   |\\n|---:|:----------------|:---------------|:-------------|:----------------|\\n|  0 | def             | inventory      | item         |                 |</td>\n",
       "    </tr>\n",
       "    <tr>\n",
       "      <th>6</th>\n",
       "      <td>1812007-doc</td>\n",
       "      <td>documentation</td>\n",
       "      <td>None</td>\n",
       "      <td>The following columns are in the stockroom table in the def database:\\n\\n|    | TABLE_CATALOG   | TABLE_SCHEMA   | TABLE_NAME   | TABLE_COMMENT   |\\n|---:|:----------------|:---------------|:-------------|:----------------|\\n|  3 | def             | inventory      | stockroom    |                 |</td>\n",
       "    </tr>\n",
       "  </tbody>\n",
       "</table>\n",
       "</div>"
      ],
      "text/plain": [
       "            id training_data_type  \\\n",
       "0   405322-sql                sql   \n",
       "1  1812006-doc      documentation   \n",
       "2  1812005-doc      documentation   \n",
       "3  1812593-doc      documentation   \n",
       "4   288380-ddl                ddl   \n",
       "5  1812004-doc      documentation   \n",
       "6  1812007-doc      documentation   \n",
       "\n",
       "                                                                    question  \\\n",
       "0  What are the item names of the items that do not have physical inventory?   \n",
       "1                                                                       None   \n",
       "2                                                                       None   \n",
       "3                                                                       None   \n",
       "4                                                                       None   \n",
       "5                                                                       None   \n",
       "6                                                                       None   \n",
       "\n",
       "                                                                                                                                                                                                                                                                                                                                                                                                                                                                                                                                      content  \n",
       "0                                                                                                                                                                                                                                                                                                                                                                                                                                                                              SELECT item_name * FROM item WHERE has_physical_inventory = 0'  \n",
       "1                                                                                                                                                                                                                                The following columns are in the item_stock table in the def database:\\n\\n|    | TABLE_CATALOG   | TABLE_SCHEMA   | TABLE_NAME   | TABLE_COMMENT   |\\n|---:|:----------------|:---------------|:-------------|:----------------|\\n|  2 | def             | inventory      | item_stock   |                 |  \n",
       "2                                                                                                                                                                                                                                The following columns are in the item_price table in the def database:\\n\\n|    | TABLE_CATALOG   | TABLE_SCHEMA   | TABLE_NAME   | TABLE_COMMENT   |\\n|---:|:----------------|:---------------|:-------------|:----------------|\\n|  1 | def             | inventory      | item_price   |                 |  \n",
       "3                                                                                                                                                                                                                                                                                                                                                                                                           This contains item inventory on a healthcare platform such as the item name, buying price, and whether it has physical inventory.  \n",
       "4  \\nCREATE TABLE IF NOT EXIST item (\\nitem_id INT PRIMARY KEY,\\nitem_name VARCHAR(150),\\nitem_description VARCHAR(150),\\ndepartment_id INT,\\ndefault_price_id INT,\\nhas_expiration INT,\\nconcept_id INT,\\ncreator INT,\\ndate_created DATETIME,\\nchanged_by INT,\\ndate_changed DATETIME,\\nretired INT,\\nretired_by INT,\\ndate_retired DATETIME,\\nretire_reason VARCHAR(50),\\nuuid VARCHAR(100),\\nhas_physical_inventory INT,\\ndefault_expiration_period INT,\\nconcept_accepted INT,\\nminimun_quantity INT,\\nbuying_price DOUBLE         \\n)\\n  \n",
       "5                                                                                                                                                                                                                                      The following columns are in the item table in the def database:\\n\\n|    | TABLE_CATALOG   | TABLE_SCHEMA   | TABLE_NAME   | TABLE_COMMENT   |\\n|---:|:----------------|:---------------|:-------------|:----------------|\\n|  0 | def             | inventory      | item         |                 |  \n",
       "6                                                                                                                                                                                                                                 The following columns are in the stockroom table in the def database:\\n\\n|    | TABLE_CATALOG   | TABLE_SCHEMA   | TABLE_NAME   | TABLE_COMMENT   |\\n|---:|:----------------|:---------------|:-------------|:----------------|\\n|  3 | def             | inventory      | stockroom    |                 |  "
      ]
     },
     "execution_count": 38,
     "metadata": {},
     "output_type": "execute_result"
    }
   ],
   "source": [
    "vn.get_training_data()"
   ]
  }
 ],
 "metadata": {
  "kernelspec": {
   "display_name": ".vanna_venv",
   "language": "python",
   "name": "python3"
  },
  "language_info": {
   "codemirror_mode": {
    "name": "ipython",
    "version": 3
   },
   "file_extension": ".py",
   "mimetype": "text/x-python",
   "name": "python",
   "nbconvert_exporter": "python",
   "pygments_lexer": "ipython3",
   "version": "3.12.1"
  }
 },
 "nbformat": 4,
 "nbformat_minor": 2
}
