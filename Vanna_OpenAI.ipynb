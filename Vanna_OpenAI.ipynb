{
 "cells": [
  {
   "cell_type": "code",
   "execution_count": 1,
   "metadata": {},
   "outputs": [],
   "source": [
    "import os\n",
    "from dotenv import load_dotenv\n",
    "import vanna\n",
    "from vanna.openai import OpenAI_Chat\n",
    "from vanna.chromadb import ChromaDB_VectorStore\n",
    "from vanna.flask import VannaFlaskApp"
   ]
  },
  {
   "cell_type": "code",
   "execution_count": 10,
   "metadata": {},
   "outputs": [
    {
     "data": {
      "text/plain": [
       "True"
      ]
     },
     "execution_count": 10,
     "metadata": {},
     "output_type": "execute_result"
    }
   ],
   "source": [
    "load_dotenv()"
   ]
  },
  {
   "cell_type": "code",
   "execution_count": 11,
   "metadata": {},
   "outputs": [],
   "source": [
    "class MyVanna(ChromaDB_VectorStore, OpenAI_Chat):\n",
    "    def __init__(self, config=None):\n",
    "        if config is None:\n",
    "            config = {}\n",
    "\n",
    "        # Ensure the API key is set in the config\n",
    "        api_key = os.getenv('OPENAI_API_KEY')\n",
    "        if api_key:\n",
    "            config['api_key'] = api_key\n",
    "        else:\n",
    "            raise ValueError(\"API key not found. Ensure the .env file contains the OPENAI_API_KEY.\")\n",
    "\n",
    "        # Initialize the parent classes with the config\n",
    "        ChromaDB_VectorStore.__init__(self, config=config)\n",
    "        OpenAI_Chat.__init__(self, config=config)\n",
    "\n",
    "\n",
    "vn = MyVanna(config={'model': 'gpt-4o'})"
   ]
  },
  {
   "cell_type": "code",
   "execution_count": 12,
   "metadata": {},
   "outputs": [],
   "source": [
    "vn.connect_to_mysql(host=os.getenv('DB_HOST'),\n",
    "                    dbname=os.getenv('DB_NAME'),\n",
    "                    user=os.getenv('DB_USER'),\n",
    "                    password=os.getenv('DB_PASSWORD'),\n",
    "                    port=3306)"
   ]
  },
  {
   "cell_type": "code",
   "execution_count": 13,
   "metadata": {},
   "outputs": [],
   "source": [
    "df_information_schema = vn.run_sql(\"\"\"\n",
    "    SELECT *\n",
    "    FROM INFORMATION_SCHEMA.TABLES\n",
    "    WHERE TABLE_SCHEMA = 'inventory'\n",
    "\"\"\")"
   ]
  },
  {
   "cell_type": "code",
   "execution_count": 14,
   "metadata": {},
   "outputs": [],
   "source": [
    "# Generate the training plan\n",
    "plan = vn.get_training_plan_generic(df_information_schema)"
   ]
  },
  {
   "cell_type": "code",
   "execution_count": 15,
   "metadata": {},
   "outputs": [
    {
     "name": "stdout",
     "output_type": "stream",
     "text": [
      "Train on Information Schema: def.inventory item\n",
      "Train on Information Schema: def.inventory item_price\n",
      "Train on Information Schema: def.inventory item_stock\n",
      "Train on Information Schema: def.inventory stockroom\n"
     ]
    }
   ],
   "source": [
    "for table_name in plan.get_summary():\n",
    "    print(table_name)"
   ]
  },
  {
   "cell_type": "code",
   "execution_count": 16,
   "metadata": {},
   "outputs": [
    {
     "name": "stderr",
     "output_type": "stream",
     "text": [
      "C:\\Users\\jmutonyi\\.cache\\chroma\\onnx_models\\all-MiniLM-L6-v2\\onnx.tar.gz: 100%|██████████| 79.3M/79.3M [00:21<00:00, 3.81MiB/s]\n"
     ]
    }
   ],
   "source": [
    "vn.train(plan=plan)"
   ]
  },
  {
   "cell_type": "markdown",
   "metadata": {},
   "source": [
    "### Train on DDL"
   ]
  },
  {
   "cell_type": "code",
   "execution_count": 17,
   "metadata": {},
   "outputs": [
    {
     "name": "stdout",
     "output_type": "stream",
     "text": [
      "Adding ddl: \n",
      "CREATE TABLE IF NOT EXIST item (\n",
      "item_id INT PRIMARY KEY,\n",
      "item_name VARCHAR(150),\n",
      "item_description VARCHAR(150),\n",
      "department_id INT,\n",
      "default_price_id INT,\n",
      "has_expiration INT,\n",
      "concept_id INT,\n",
      "creator INT,\n",
      "date_created DATETIME,\n",
      "changed_by INT,\n",
      "date_changed DATETIME,\n",
      "retired INT,\n",
      "retired_by INT,\n",
      "date_retired DATETIME,\n",
      "retire_reason VARCHAR(50),\n",
      "uuid VARCHAR(100),\n",
      "has_physical_inventory INT,\n",
      "default_expiration_period INT,\n",
      "concept_accepted INT,\n",
      "minimun_quantity INT,\n",
      "buying_price DOUBLE         \n",
      ")\n",
      "\n"
     ]
    },
    {
     "data": {
      "text/plain": [
       "'210394dd-edc6-52a7-b4f1-73a18ad91c74-ddl'"
      ]
     },
     "execution_count": 17,
     "metadata": {},
     "output_type": "execute_result"
    }
   ],
   "source": [
    "vn.train(ddl = \"\"\"\n",
    "CREATE TABLE IF NOT EXIST item (\n",
    "item_id INT PRIMARY KEY,\n",
    "item_name VARCHAR(150),\n",
    "item_description VARCHAR(150),\n",
    "department_id INT,\n",
    "default_price_id INT,\n",
    "has_expiration INT,\n",
    "concept_id INT,\n",
    "creator INT,\n",
    "date_created DATETIME,\n",
    "changed_by INT,\n",
    "date_changed DATETIME,\n",
    "retired INT,\n",
    "retired_by INT,\n",
    "date_retired DATETIME,\n",
    "retire_reason VARCHAR(50),\n",
    "uuid VARCHAR(100),\n",
    "has_physical_inventory INT,\n",
    "default_expiration_period INT,\n",
    "concept_accepted INT,\n",
    "minimun_quantity INT,\n",
    "buying_price DOUBLE         \n",
    ")\n",
    "\"\"\")"
   ]
  },
  {
   "cell_type": "markdown",
   "metadata": {},
   "source": [
    "### Train on Documentation"
   ]
  },
  {
   "cell_type": "code",
   "execution_count": 18,
   "metadata": {},
   "outputs": [
    {
     "name": "stdout",
     "output_type": "stream",
     "text": [
      "Adding documentation....\n"
     ]
    },
    {
     "data": {
      "text/plain": [
       "'8e4d7f3f-0810-5409-ba8a-1419b60a6f31-doc'"
      ]
     },
     "execution_count": 18,
     "metadata": {},
     "output_type": "execute_result"
    }
   ],
   "source": [
    "vn.train(documentation=\"This contains item inventory on a healthcare platform such as the item name, buying price, and whether it has physical inventory.\")"
   ]
  },
  {
   "cell_type": "markdown",
   "metadata": {},
   "source": [
    "### Train on SQL query"
   ]
  },
  {
   "cell_type": "code",
   "execution_count": 19,
   "metadata": {},
   "outputs": [
    {
     "data": {
      "text/plain": [
       "'20410a26-2b10-562d-969f-e3e02000eb1a-sql'"
      ]
     },
     "execution_count": 19,
     "metadata": {},
     "output_type": "execute_result"
    }
   ],
   "source": [
    "vn.train(question=\"What are the item names of the items that do not have physical inventory?\",\n",
    "         sql = \"SELECT item_name * FROM item WHERE has_physical_inventory = 0'\")"
   ]
  },
  {
   "cell_type": "code",
   "execution_count": 20,
   "metadata": {},
   "outputs": [
    {
     "name": "stdout",
     "output_type": "stream",
     "text": [
      "Using model gpt-4o for 69.0 tokens (approx)\n",
      "Question generated with sql: Which items have physical inventory? \n",
      "Adding SQL...\n"
     ]
    },
    {
     "data": {
      "text/plain": [
       "'f9313fb2-eff9-57f6-bc63-b393c9ccb66e-sql'"
      ]
     },
     "execution_count": 20,
     "metadata": {},
     "output_type": "execute_result"
    }
   ],
   "source": [
    "vn.train(sql = \"SELECT item_name * FROM item WHERE has_physical_inventory = 1'\")"
   ]
  },
  {
   "cell_type": "code",
   "execution_count": 21,
   "metadata": {},
   "outputs": [
    {
     "data": {
      "text/plain": [
       "'54f1c3e5-e58f-55f8-88bd-790941844a25-sql'"
      ]
     },
     "execution_count": 21,
     "metadata": {},
     "output_type": "execute_result"
    }
   ],
   "source": [
    "vn.train(question=\"What is the average price of items with physical inventory and those without\",\n",
    "         sql=\"SELECT has_physical_inventory,AVG(price) AS average_price FROM item INNER JOIN item_price ON item.default_price_id = item_price.item_price_id GROUP BY has_physical_inventory\")"
   ]
  },
  {
   "cell_type": "code",
   "execution_count": 22,
   "metadata": {},
   "outputs": [
    {
     "data": {
      "text/plain": [
       "'b7a6a598-0a53-519d-b225-9b6d8cbc4613-sql'"
      ]
     },
     "execution_count": 22,
     "metadata": {},
     "output_type": "execute_result"
    }
   ],
   "source": [
    "vn.train(question=\"Which storeroom has the most inventory?\",\n",
    "        sql=\"SELECT item_stock.stockroom_id, stockroom_name, SUM(item_stock.quantity) AS total_quantity FROM item_stock INNER JOIN stockroom ON item_stock.stockroom_id = stockroom.stockroom_id GROUP BY item_stock.stockroom_id, stockroom_name ORDER BY total_quantity DESC LIMIT 1\")"
   ]
  },
  {
   "cell_type": "code",
   "execution_count": 23,
   "metadata": {},
   "outputs": [
    {
     "data": {
      "text/plain": [
       "'1dc51e38-9266-5912-8f3f-69bc3e2a1d0e-sql'"
      ]
     },
     "execution_count": 23,
     "metadata": {},
     "output_type": "execute_result"
    }
   ],
   "source": [
    "vn.train(question=\"What items are running out of stock? Items that have a quantity of less than 10\",\n",
    "        sql=\"SELECT item.item_id, item.item_id, quantity FROM item_stock INNER JOIN item ON item_stock.item_id = item.item_id WHERE quantity < 10 ORDER BY quantity DESC\")"
   ]
  },
  {
   "cell_type": "code",
   "execution_count": 24,
   "metadata": {},
   "outputs": [
    {
     "data": {
      "text/html": [
       "<div>\n",
       "<style scoped>\n",
       "    .dataframe tbody tr th:only-of-type {\n",
       "        vertical-align: middle;\n",
       "    }\n",
       "\n",
       "    .dataframe tbody tr th {\n",
       "        vertical-align: top;\n",
       "    }\n",
       "\n",
       "    .dataframe thead th {\n",
       "        text-align: right;\n",
       "    }\n",
       "</style>\n",
       "<table border=\"1\" class=\"dataframe\">\n",
       "  <thead>\n",
       "    <tr style=\"text-align: right;\">\n",
       "      <th></th>\n",
       "      <th>id</th>\n",
       "      <th>question</th>\n",
       "      <th>content</th>\n",
       "      <th>training_data_type</th>\n",
       "    </tr>\n",
       "  </thead>\n",
       "  <tbody>\n",
       "    <tr>\n",
       "      <th>0</th>\n",
       "      <td>1dc51e38-9266-5912-8f3f-69bc3e2a1d0e-sql</td>\n",
       "      <td>What items are running out of stock? Items tha...</td>\n",
       "      <td>SELECT item.item_id, item.item_id, quantity FR...</td>\n",
       "      <td>sql</td>\n",
       "    </tr>\n",
       "    <tr>\n",
       "      <th>1</th>\n",
       "      <td>20410a26-2b10-562d-969f-e3e02000eb1a-sql</td>\n",
       "      <td>What are the item names of the items that do n...</td>\n",
       "      <td>SELECT item_name * FROM item WHERE has_physica...</td>\n",
       "      <td>sql</td>\n",
       "    </tr>\n",
       "    <tr>\n",
       "      <th>2</th>\n",
       "      <td>54f1c3e5-e58f-55f8-88bd-790941844a25-sql</td>\n",
       "      <td>What is the average price of items with physic...</td>\n",
       "      <td>SELECT has_physical_inventory,AVG(price) AS av...</td>\n",
       "      <td>sql</td>\n",
       "    </tr>\n",
       "    <tr>\n",
       "      <th>3</th>\n",
       "      <td>b7a6a598-0a53-519d-b225-9b6d8cbc4613-sql</td>\n",
       "      <td>Which storeroom has the most inventory?</td>\n",
       "      <td>SELECT item_stock.stockroom_id, stockroom_name...</td>\n",
       "      <td>sql</td>\n",
       "    </tr>\n",
       "    <tr>\n",
       "      <th>4</th>\n",
       "      <td>f9313fb2-eff9-57f6-bc63-b393c9ccb66e-sql</td>\n",
       "      <td>Which items have physical inventory?</td>\n",
       "      <td>SELECT item_name * FROM item WHERE has_physica...</td>\n",
       "      <td>sql</td>\n",
       "    </tr>\n",
       "    <tr>\n",
       "      <th>0</th>\n",
       "      <td>210394dd-edc6-52a7-b4f1-73a18ad91c74-ddl</td>\n",
       "      <td>None</td>\n",
       "      <td>\\nCREATE TABLE IF NOT EXIST item (\\nitem_id IN...</td>\n",
       "      <td>ddl</td>\n",
       "    </tr>\n",
       "    <tr>\n",
       "      <th>0</th>\n",
       "      <td>0879b86a-031b-538e-b161-1520ca5b0a13-doc</td>\n",
       "      <td>None</td>\n",
       "      <td>The following columns are in the item_stock ta...</td>\n",
       "      <td>documentation</td>\n",
       "    </tr>\n",
       "    <tr>\n",
       "      <th>1</th>\n",
       "      <td>47b97fd5-c67b-5436-8512-6db5f57c5de7-doc</td>\n",
       "      <td>None</td>\n",
       "      <td>The following columns are in the item_price ta...</td>\n",
       "      <td>documentation</td>\n",
       "    </tr>\n",
       "    <tr>\n",
       "      <th>2</th>\n",
       "      <td>68182647-9045-5c87-93d1-bd4a7f9f7c55-doc</td>\n",
       "      <td>None</td>\n",
       "      <td>The following columns are in the stockroom tab...</td>\n",
       "      <td>documentation</td>\n",
       "    </tr>\n",
       "    <tr>\n",
       "      <th>3</th>\n",
       "      <td>851dc5c3-69a7-531f-9c06-96426e29d5ed-doc</td>\n",
       "      <td>None</td>\n",
       "      <td>The following columns are in the item table in...</td>\n",
       "      <td>documentation</td>\n",
       "    </tr>\n",
       "    <tr>\n",
       "      <th>4</th>\n",
       "      <td>8e4d7f3f-0810-5409-ba8a-1419b60a6f31-doc</td>\n",
       "      <td>None</td>\n",
       "      <td>This contains item inventory on a healthcare p...</td>\n",
       "      <td>documentation</td>\n",
       "    </tr>\n",
       "  </tbody>\n",
       "</table>\n",
       "</div>"
      ],
      "text/plain": [
       "                                         id  \\\n",
       "0  1dc51e38-9266-5912-8f3f-69bc3e2a1d0e-sql   \n",
       "1  20410a26-2b10-562d-969f-e3e02000eb1a-sql   \n",
       "2  54f1c3e5-e58f-55f8-88bd-790941844a25-sql   \n",
       "3  b7a6a598-0a53-519d-b225-9b6d8cbc4613-sql   \n",
       "4  f9313fb2-eff9-57f6-bc63-b393c9ccb66e-sql   \n",
       "0  210394dd-edc6-52a7-b4f1-73a18ad91c74-ddl   \n",
       "0  0879b86a-031b-538e-b161-1520ca5b0a13-doc   \n",
       "1  47b97fd5-c67b-5436-8512-6db5f57c5de7-doc   \n",
       "2  68182647-9045-5c87-93d1-bd4a7f9f7c55-doc   \n",
       "3  851dc5c3-69a7-531f-9c06-96426e29d5ed-doc   \n",
       "4  8e4d7f3f-0810-5409-ba8a-1419b60a6f31-doc   \n",
       "\n",
       "                                            question  \\\n",
       "0  What items are running out of stock? Items tha...   \n",
       "1  What are the item names of the items that do n...   \n",
       "2  What is the average price of items with physic...   \n",
       "3            Which storeroom has the most inventory?   \n",
       "4               Which items have physical inventory?   \n",
       "0                                               None   \n",
       "0                                               None   \n",
       "1                                               None   \n",
       "2                                               None   \n",
       "3                                               None   \n",
       "4                                               None   \n",
       "\n",
       "                                             content training_data_type  \n",
       "0  SELECT item.item_id, item.item_id, quantity FR...                sql  \n",
       "1  SELECT item_name * FROM item WHERE has_physica...                sql  \n",
       "2  SELECT has_physical_inventory,AVG(price) AS av...                sql  \n",
       "3  SELECT item_stock.stockroom_id, stockroom_name...                sql  \n",
       "4  SELECT item_name * FROM item WHERE has_physica...                sql  \n",
       "0  \\nCREATE TABLE IF NOT EXIST item (\\nitem_id IN...                ddl  \n",
       "0  The following columns are in the item_stock ta...      documentation  \n",
       "1  The following columns are in the item_price ta...      documentation  \n",
       "2  The following columns are in the stockroom tab...      documentation  \n",
       "3  The following columns are in the item table in...      documentation  \n",
       "4  This contains item inventory on a healthcare p...      documentation  "
      ]
     },
     "execution_count": 24,
     "metadata": {},
     "output_type": "execute_result"
    }
   ],
   "source": [
    "vn.get_training_data()"
   ]
  },
  {
   "cell_type": "code",
   "execution_count": 25,
   "metadata": {},
   "outputs": [
    {
     "name": "stderr",
     "output_type": "stream",
     "text": [
      "Number of requested results 10 is greater than number of elements in index 5, updating n_results = 5\n",
      "Number of requested results 10 is greater than number of elements in index 1, updating n_results = 1\n",
      "Number of requested results 10 is greater than number of elements in index 5, updating n_results = 5\n"
     ]
    },
    {
     "name": "stdout",
     "output_type": "stream",
     "text": [
      "SQL Prompt: [{'role': 'system', 'content': \"You are a SQL expert. Please help to generate a SQL query to answer the question. Your response should ONLY be based on the given context and follow the response guidelines and format instructions. \\n===Tables \\n\\nCREATE TABLE IF NOT EXIST item (\\nitem_id INT PRIMARY KEY,\\nitem_name VARCHAR(150),\\nitem_description VARCHAR(150),\\ndepartment_id INT,\\ndefault_price_id INT,\\nhas_expiration INT,\\nconcept_id INT,\\ncreator INT,\\ndate_created DATETIME,\\nchanged_by INT,\\ndate_changed DATETIME,\\nretired INT,\\nretired_by INT,\\ndate_retired DATETIME,\\nretire_reason VARCHAR(50),\\nuuid VARCHAR(100),\\nhas_physical_inventory INT,\\ndefault_expiration_period INT,\\nconcept_accepted INT,\\nminimun_quantity INT,\\nbuying_price DOUBLE         \\n)\\n\\n\\n\\n===Additional Context \\n\\nThe following columns are in the stockroom table in the def database:\\n\\n|    | TABLE_CATALOG   | TABLE_SCHEMA   | TABLE_NAME   | TABLE_COMMENT   |\\n|---:|:----------------|:---------------|:-------------|:----------------|\\n|  3 | def             | inventory      | stockroom    |                 |\\n\\nThe following columns are in the item_stock table in the def database:\\n\\n|    | TABLE_CATALOG   | TABLE_SCHEMA   | TABLE_NAME   | TABLE_COMMENT   |\\n|---:|:----------------|:---------------|:-------------|:----------------|\\n|  2 | def             | inventory      | item_stock   |                 |\\n\\nThe following columns are in the item table in the def database:\\n\\n|    | TABLE_CATALOG   | TABLE_SCHEMA   | TABLE_NAME   | TABLE_COMMENT   |\\n|---:|:----------------|:---------------|:-------------|:----------------|\\n|  0 | def             | inventory      | item         |                 |\\n\\nThe following columns are in the item_price table in the def database:\\n\\n|    | TABLE_CATALOG   | TABLE_SCHEMA   | TABLE_NAME   | TABLE_COMMENT   |\\n|---:|:----------------|:---------------|:-------------|:----------------|\\n|  1 | def             | inventory      | item_price   |                 |\\n\\nThis contains item inventory on a healthcare platform such as the item name, buying price, and whether it has physical inventory.\\n\\n===Response Guidelines \\n1. If the provided context is sufficient, please generate a valid SQL query without any explanations for the question. \\n2. If the provided context is almost sufficient but requires knowledge of a specific string in a particular column, please generate an intermediate SQL query to find the distinct strings in that column. Prepend the query with a comment saying intermediate_sql \\n3. If the provided context is insufficient, please explain why it can't be generated. \\n4. Please use the most relevant table(s). \\n5. If the question has been asked and answered before, please repeat the answer exactly as it was given before. \\n6. Ensure that the output SQL is SQL-compliant and executable, and free of syntax errors. \\n\"}, {'role': 'user', 'content': 'Which storeroom has the most inventory?'}, {'role': 'assistant', 'content': 'SELECT item_stock.stockroom_id, stockroom_name, SUM(item_stock.quantity) AS total_quantity FROM item_stock INNER JOIN stockroom ON item_stock.stockroom_id = stockroom.stockroom_id GROUP BY item_stock.stockroom_id, stockroom_name ORDER BY total_quantity DESC LIMIT 1'}, {'role': 'user', 'content': 'What items are running out of stock? Items that have a quantity of less than 10'}, {'role': 'assistant', 'content': 'SELECT item.item_id, item.item_id, quantity FROM item_stock INNER JOIN item ON item_stock.item_id = item.item_id WHERE quantity < 10 ORDER BY quantity DESC'}, {'role': 'user', 'content': 'What are the item names of the items that do not have physical inventory?'}, {'role': 'assistant', 'content': \"SELECT item_name * FROM item WHERE has_physical_inventory = 0'\"}, {'role': 'user', 'content': 'What is the average price of items with physical inventory and those without'}, {'role': 'assistant', 'content': 'SELECT has_physical_inventory,AVG(price) AS average_price FROM item INNER JOIN item_price ON item.default_price_id = item_price.item_price_id GROUP BY has_physical_inventory'}, {'role': 'user', 'content': 'Which items have physical inventory?'}, {'role': 'assistant', 'content': \"SELECT item_name * FROM item WHERE has_physical_inventory = 1'\"}, {'role': 'user', 'content': 'can you give me distinct stockroom names from stockroom table?'}]\n",
      "Using model gpt-4o for 968.0 tokens (approx)\n",
      "LLM Response: ```sql\n",
      "SELECT DISTINCT stockroom_name FROM stockroom;\n",
      "```\n",
      "Extracted SQL: SELECT DISTINCT stockroom_name FROM stockroom;\n",
      "SELECT DISTINCT stockroom_name FROM stockroom;\n",
      "  stockroom_name\n",
      "0       Pharmacy\n",
      "1          Store\n",
      "2       Casualty\n",
      "3            Lab\n",
      "4       Security\n",
      "5         triage\n",
      "Using model gpt-4o for 173.25 tokens (approx)\n"
     ]
    },
    {
     "data": {
      "image/png": "[encoded data removed]",
      "text/plain": [
       "<IPython.core.display.Image object>"
      ]
     },
     "metadata": {},
     "output_type": "display_data"
    },
    {
     "data": {
      "text/plain": [
       "('SELECT DISTINCT stockroom_name FROM stockroom;',\n",
       "   stockroom_name\n",
       " 0       Pharmacy\n",
       " 1          Store\n",
       " 2       Casualty\n",
       " 3            Lab\n",
       " 4       Security\n",
       " 5         triage,\n",
       " Figure({\n",
       "     'data': [{'text': array(['Pharmacy', 'Store', 'Casualty', 'Lab', 'Security', 'triage'],\n",
       "                             dtype=object),\n",
       "               'textposition': 'auto',\n",
       "               'type': 'bar',\n",
       "               'x': array(['Pharmacy', 'Store', 'Casualty', 'Lab', 'Security', 'triage'],\n",
       "                          dtype=object),\n",
       "               'y': [1, 1, 1, 1, 1, 1]}],\n",
       "     'layout': {'template': '...',\n",
       "                'title': {'text': 'Distinct Stockroom Names'},\n",
       "                'xaxis': {'title': {'text': 'Stockroom Name'}},\n",
       "                'yaxis': {'ticktext': ['1'], 'tickvals': [1], 'title': {'text': 'Count'}}}\n",
       " }))"
      ]
     },
     "execution_count": 25,
     "metadata": {},
     "output_type": "execute_result"
    }
   ],
   "source": [
    "vn.ask(\"can you give me distinct stockroom names from stockroom table?\", allow_llm_to_see_data=True)"
   ]
  },
  {
   "cell_type": "code",
   "execution_count": 27,
   "metadata": {},
   "outputs": [
    {
     "name": "stdout",
     "output_type": "stream",
     "text": [
      "Your app is running at:\n",
      "http://localhost:8084\n",
      " * Serving Flask app 'vanna.flask'\n",
      " * Debug mode: on\n"
     ]
    },
    {
     "name": "stderr",
     "output_type": "stream",
     "text": [
      "Number of requested results 10 is greater than number of elements in index 6, updating n_results = 6\n",
      "Number of requested results 10 is greater than number of elements in index 1, updating n_results = 1\n",
      "Number of requested results 10 is greater than number of elements in index 5, updating n_results = 5\n"
     ]
    },
    {
     "name": "stdout",
     "output_type": "stream",
     "text": [
      "Using model gpt-4o for 999.25 tokens (approx)\n",
      "Using model gpt-4o for 3266.25 tokens (approx)\n"
     ]
    },
    {
     "name": "stderr",
     "output_type": "stream",
     "text": [
      "Number of requested results 10 is greater than number of elements in index 6, updating n_results = 6\n",
      "Number of requested results 10 is greater than number of elements in index 1, updating n_results = 1\n",
      "Number of requested results 10 is greater than number of elements in index 5, updating n_results = 5\n"
     ]
    },
    {
     "name": "stdout",
     "output_type": "stream",
     "text": [
      "Using model gpt-4o for 988.5 tokens (approx)\n",
      "Using model gpt-4o for 142.0 tokens (approx)\n"
     ]
    },
    {
     "name": "stderr",
     "output_type": "stream",
     "text": [
      "Number of requested results 10 is greater than number of elements in index 6, updating n_results = 6\n",
      "Number of requested results 10 is greater than number of elements in index 1, updating n_results = 1\n",
      "Number of requested results 10 is greater than number of elements in index 5, updating n_results = 5\n"
     ]
    },
    {
     "name": "stdout",
     "output_type": "stream",
     "text": [
      "Using model gpt-4o for 1002.75 tokens (approx)\n"
     ]
    }
   ],
   "source": [
    "app = VannaFlaskApp(vn, allow_llm_to_see_data=True)\n",
    "app.run()"
   ]
  }
 ],
 "metadata": {
  "kernelspec": {
   "display_name": ".vanna_venv",
   "language": "python",
   "name": "python3"
  },
  "language_info": {
   "codemirror_mode": {
    "name": "ipython",
    "version": 3
   },
   "file_extension": ".py",
   "mimetype": "text/x-python",
   "name": "python",
   "nbconvert_exporter": "python",
   "pygments_lexer": "ipython3",
   "version": "3.12.1"
  }
 },
 "nbformat": 4,
 "nbformat_minor": 2
}
