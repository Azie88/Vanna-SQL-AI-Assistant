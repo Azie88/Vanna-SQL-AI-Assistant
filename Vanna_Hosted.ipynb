{
 "cells": [
  {
   "cell_type": "code",
   "execution_count": 1,
   "metadata": {},
   "outputs": [],
   "source": [
    "import os\n",
    "from dotenv import load_dotenv\n",
    "import vanna\n",
    "from vanna.remote import VannaDefault\n",
    "from vanna.flask import VannaFlaskApp"
   ]
  },
  {
   "cell_type": "code",
   "execution_count": 2,
   "metadata": {},
   "outputs": [
    {
     "data": {
      "text/plain": [
       "True"
      ]
     },
     "execution_count": 2,
     "metadata": {},
     "output_type": "execute_result"
    }
   ],
   "source": [
    "load_dotenv()"
   ]
  },
  {
   "cell_type": "code",
   "execution_count": 3,
   "metadata": {},
   "outputs": [],
   "source": [
    "vn = VannaDefault(model='mysql_rag', api_key=os.getenv(\"vanna_api_key\"))"
   ]
  },
  {
   "cell_type": "code",
   "execution_count": 4,
   "metadata": {},
   "outputs": [],
   "source": [
    "vn.connect_to_mysql(host=os.getenv('DB_HOST'),\n",
    "                    dbname=os.getenv('DB_NAME'),\n",
    "                    user=os.getenv('DB_USER'),\n",
    "                    password=os.getenv('DB_PASSWORD'),\n",
    "                    port=3306)"
   ]
  },
  {
   "cell_type": "markdown",
   "metadata": {},
   "source": [
    "## Training"
   ]
  },
  {
   "cell_type": "code",
   "execution_count": 9,
   "metadata": {},
   "outputs": [],
   "source": [
    "df_information_schema = vn.run_sql(\"\"\"\n",
    "    SELECT *\n",
    "    FROM INFORMATION_SCHEMA.TABLES\n",
    "    WHERE TABLE_SCHEMA = 'inventory'\n",
    "\"\"\")"
   ]
  },
  {
   "cell_type": "code",
   "execution_count": 10,
   "metadata": {},
   "outputs": [],
   "source": [
    "# Generate the training plan\n",
    "plan = vn.get_training_plan_generic(df_information_schema)"
   ]
  },
  {
   "cell_type": "code",
   "execution_count": 11,
   "metadata": {},
   "outputs": [
    {
     "name": "stdout",
     "output_type": "stream",
     "text": [
      "Train on Information Schema: def.inventory item\n",
      "Train on Information Schema: def.inventory item_price\n",
      "Train on Information Schema: def.inventory item_stock\n",
      "Train on Information Schema: def.inventory stockroom\n"
     ]
    }
   ],
   "source": [
    "for table_name in plan.get_summary():\n",
    "    print(table_name)"
   ]
  },
  {
   "cell_type": "code",
   "execution_count": 12,
   "metadata": {},
   "outputs": [],
   "source": [
    "vn.train(plan=plan)"
   ]
  },
  {
   "cell_type": "markdown",
   "metadata": {},
   "source": [
    "### Train on DDL"
   ]
  },
  {
   "cell_type": "code",
   "execution_count": 13,
   "metadata": {},
   "outputs": [
    {
     "name": "stdout",
     "output_type": "stream",
     "text": [
      "Adding ddl: \n",
      "CREATE TABLE IF NOT EXIST item (\n",
      "item_id INT PRIMARY KEY,\n",
      "item_name VARCHAR(150),\n",
      "item_description VARCHAR(150),\n",
      "department_id INT,\n",
      "default_price_id INT,\n",
      "has_expiration INT,\n",
      "concept_id INT,\n",
      "creator INT,\n",
      "date_created DATETIME,\n",
      "changed_by INT,\n",
      "date_changed DATETIME,\n",
      "retired INT,\n",
      "retired_by INT,\n",
      "date_retired DATETIME,\n",
      "retire_reason VARCHAR(50),\n",
      "uuid VARCHAR(100),\n",
      "has_physical_inventory INT,\n",
      "default_expiration_period INT,\n",
      "concept_accepted INT,\n",
      "minimun_quantity INT,\n",
      "buying_price DOUBLE         \n",
      ")\n",
      "\n"
     ]
    },
    {
     "data": {
      "text/plain": [
       "'288407-ddl'"
      ]
     },
     "execution_count": 13,
     "metadata": {},
     "output_type": "execute_result"
    }
   ],
   "source": [
    "vn.train(ddl = \"\"\"\n",
    "CREATE TABLE IF NOT EXIST item (\n",
    "item_id INT PRIMARY KEY,\n",
    "item_name VARCHAR(150),\n",
    "item_description VARCHAR(150),\n",
    "department_id INT,\n",
    "default_price_id INT,\n",
    "has_expiration INT,\n",
    "concept_id INT,\n",
    "creator INT,\n",
    "date_created DATETIME,\n",
    "changed_by INT,\n",
    "date_changed DATETIME,\n",
    "retired INT,\n",
    "retired_by INT,\n",
    "date_retired DATETIME,\n",
    "retire_reason VARCHAR(50),\n",
    "uuid VARCHAR(100),\n",
    "has_physical_inventory INT,\n",
    "default_expiration_period INT,\n",
    "concept_accepted INT,\n",
    "minimun_quantity INT,\n",
    "buying_price DOUBLE         \n",
    ")\n",
    "\"\"\")"
   ]
  },
  {
   "cell_type": "markdown",
   "metadata": {},
   "source": [
    "### Train on Documentation"
   ]
  },
  {
   "cell_type": "code",
   "execution_count": 14,
   "metadata": {},
   "outputs": [
    {
     "name": "stdout",
     "output_type": "stream",
     "text": [
      "Adding documentation....\n"
     ]
    },
    {
     "data": {
      "text/plain": [
       "'1813230-doc'"
      ]
     },
     "execution_count": 14,
     "metadata": {},
     "output_type": "execute_result"
    }
   ],
   "source": [
    "vn.train(documentation=\"This contains item inventory on a healthcare platform such as the item name, buying price, and whether it has physical inventory.\")"
   ]
  },
  {
   "cell_type": "markdown",
   "metadata": {},
   "source": [
    "### Train on SQL query"
   ]
  },
  {
   "cell_type": "code",
   "execution_count": 15,
   "metadata": {},
   "outputs": [
    {
     "data": {
      "text/plain": [
       "'59de8a4c5423505eed60540bb7e26b7f-sql'"
      ]
     },
     "execution_count": 15,
     "metadata": {},
     "output_type": "execute_result"
    }
   ],
   "source": [
    "vn.train(question=\"What are the item names of the items that do not have physical inventory?\",\n",
    "         sql = \"SELECT item_name * FROM item WHERE has_physical_inventory = 0'\")"
   ]
  },
  {
   "cell_type": "code",
   "execution_count": 16,
   "metadata": {},
   "outputs": [
    {
     "name": "stdout",
     "output_type": "stream",
     "text": [
      "Question generated with sql: What are the names of items that have physical inventory available? \n",
      "Adding SQL...\n"
     ]
    },
    {
     "data": {
      "text/plain": [
       "'d4084fe4d298c324c9462d565f0e7cab-sql'"
      ]
     },
     "execution_count": 16,
     "metadata": {},
     "output_type": "execute_result"
    }
   ],
   "source": [
    "vn.train(sql = \"SELECT item_name * FROM item WHERE has_physical_inventory = 1'\")"
   ]
  },
  {
   "cell_type": "code",
   "execution_count": 17,
   "metadata": {},
   "outputs": [
    {
     "data": {
      "text/plain": [
       "'7dfaa490fb0dd23986c66b1c351faf1b-sql'"
      ]
     },
     "execution_count": 17,
     "metadata": {},
     "output_type": "execute_result"
    }
   ],
   "source": [
    "vn.train(question=\"What is the average price of items with physical inventory and those without\",\n",
    "         sql=\"SELECT has_physical_inventory,AVG(price) AS average_price FROM item INNER JOIN item_price ON item.default_price_id = item_price.item_price_id GROUP BY has_physical_inventory\")"
   ]
  },
  {
   "cell_type": "code",
   "execution_count": 18,
   "metadata": {},
   "outputs": [
    {
     "data": {
      "text/plain": [
       "'d0761db3a418ce6b4f3d8c6af248b14b-sql'"
      ]
     },
     "execution_count": 18,
     "metadata": {},
     "output_type": "execute_result"
    }
   ],
   "source": [
    "vn.train(question=\"Which storeroom has the most inventory?\",\n",
    "        sql=\"SELECT item_stock.stockroom_id, stockroom_name, SUM(item_stock.quantity) AS total_quantity FROM item_stock INNER JOIN stockroom ON item_stock.stockroom_id = stockroom.stockroom_id GROUP BY item_stock.stockroom_id, stockroom_name ORDER BY total_quantity DESC LIMIT 1\")"
   ]
  },
  {
   "cell_type": "code",
   "execution_count": 19,
   "metadata": {},
   "outputs": [
    {
     "data": {
      "text/plain": [
       "'601039e407b71a4447dc8c3e934378cc-sql'"
      ]
     },
     "execution_count": 19,
     "metadata": {},
     "output_type": "execute_result"
    }
   ],
   "source": [
    "vn.train(question=\"What items are running out of stock? Items that have a quantity of less than 10\",\n",
    "        sql=\"SELECT item.item_id, item.item_id, quantity FROM item_stock INNER JOIN item ON item_stock.item_id = item.item_id WHERE quantity < 10 ORDER BY quantity DESC\")"
   ]
  },
  {
   "cell_type": "code",
   "execution_count": 20,
   "metadata": {},
   "outputs": [
    {
     "data": {
      "text/html": [
       "<div>\n",
       "<style scoped>\n",
       "    .dataframe tbody tr th:only-of-type {\n",
       "        vertical-align: middle;\n",
       "    }\n",
       "\n",
       "    .dataframe tbody tr th {\n",
       "        vertical-align: top;\n",
       "    }\n",
       "\n",
       "    .dataframe thead th {\n",
       "        text-align: right;\n",
       "    }\n",
       "</style>\n",
       "<table border=\"1\" class=\"dataframe\">\n",
       "  <thead>\n",
       "    <tr style=\"text-align: right;\">\n",
       "      <th></th>\n",
       "      <th>id</th>\n",
       "      <th>training_data_type</th>\n",
       "      <th>question</th>\n",
       "      <th>content</th>\n",
       "    </tr>\n",
       "  </thead>\n",
       "  <tbody>\n",
       "    <tr>\n",
       "      <th>0</th>\n",
       "      <td>405337-sql</td>\n",
       "      <td>sql</td>\n",
       "      <td>Which storeroom has the most inventory?</td>\n",
       "      <td>SELECT item_stock.stockroom_id, stockroom_name...</td>\n",
       "    </tr>\n",
       "    <tr>\n",
       "      <th>1</th>\n",
       "      <td>1813230-doc</td>\n",
       "      <td>documentation</td>\n",
       "      <td>None</td>\n",
       "      <td>This contains item inventory on a healthcare p...</td>\n",
       "    </tr>\n",
       "    <tr>\n",
       "      <th>2</th>\n",
       "      <td>1813229-doc</td>\n",
       "      <td>documentation</td>\n",
       "      <td>None</td>\n",
       "      <td>The following columns are in the stockroom tab...</td>\n",
       "    </tr>\n",
       "    <tr>\n",
       "      <th>3</th>\n",
       "      <td>405336-sql</td>\n",
       "      <td>sql</td>\n",
       "      <td>What is the average price of items with physic...</td>\n",
       "      <td>SELECT has_physical_inventory,AVG(price) AS av...</td>\n",
       "    </tr>\n",
       "    <tr>\n",
       "      <th>4</th>\n",
       "      <td>1813226-doc</td>\n",
       "      <td>documentation</td>\n",
       "      <td>None</td>\n",
       "      <td>The following columns are in the item table in...</td>\n",
       "    </tr>\n",
       "    <tr>\n",
       "      <th>5</th>\n",
       "      <td>288407-ddl</td>\n",
       "      <td>ddl</td>\n",
       "      <td>None</td>\n",
       "      <td>\\nCREATE TABLE IF NOT EXIST item (\\nitem_id IN...</td>\n",
       "    </tr>\n",
       "    <tr>\n",
       "      <th>6</th>\n",
       "      <td>405334-sql</td>\n",
       "      <td>sql</td>\n",
       "      <td>What are the item names of the items that do n...</td>\n",
       "      <td>SELECT item_name * FROM item WHERE has_physica...</td>\n",
       "    </tr>\n",
       "    <tr>\n",
       "      <th>7</th>\n",
       "      <td>405338-sql</td>\n",
       "      <td>sql</td>\n",
       "      <td>What items are running out of stock? Items tha...</td>\n",
       "      <td>SELECT item.item_id, item.item_id, quantity FR...</td>\n",
       "    </tr>\n",
       "    <tr>\n",
       "      <th>8</th>\n",
       "      <td>1813228-doc</td>\n",
       "      <td>documentation</td>\n",
       "      <td>None</td>\n",
       "      <td>The following columns are in the item_stock ta...</td>\n",
       "    </tr>\n",
       "    <tr>\n",
       "      <th>9</th>\n",
       "      <td>405335-sql</td>\n",
       "      <td>sql</td>\n",
       "      <td>What are the names of items that have physical...</td>\n",
       "      <td>SELECT item_name * FROM item WHERE has_physica...</td>\n",
       "    </tr>\n",
       "    <tr>\n",
       "      <th>10</th>\n",
       "      <td>1813227-doc</td>\n",
       "      <td>documentation</td>\n",
       "      <td>None</td>\n",
       "      <td>The following columns are in the item_price ta...</td>\n",
       "    </tr>\n",
       "  </tbody>\n",
       "</table>\n",
       "</div>"
      ],
      "text/plain": [
       "             id training_data_type  \\\n",
       "0    405337-sql                sql   \n",
       "1   1813230-doc      documentation   \n",
       "2   1813229-doc      documentation   \n",
       "3    405336-sql                sql   \n",
       "4   1813226-doc      documentation   \n",
       "5    288407-ddl                ddl   \n",
       "6    405334-sql                sql   \n",
       "7    405338-sql                sql   \n",
       "8   1813228-doc      documentation   \n",
       "9    405335-sql                sql   \n",
       "10  1813227-doc      documentation   \n",
       "\n",
       "                                             question  \\\n",
       "0             Which storeroom has the most inventory?   \n",
       "1                                                None   \n",
       "2                                                None   \n",
       "3   What is the average price of items with physic...   \n",
       "4                                                None   \n",
       "5                                                None   \n",
       "6   What are the item names of the items that do n...   \n",
       "7   What items are running out of stock? Items tha...   \n",
       "8                                                None   \n",
       "9   What are the names of items that have physical...   \n",
       "10                                               None   \n",
       "\n",
       "                                              content  \n",
       "0   SELECT item_stock.stockroom_id, stockroom_name...  \n",
       "1   This contains item inventory on a healthcare p...  \n",
       "2   The following columns are in the stockroom tab...  \n",
       "3   SELECT has_physical_inventory,AVG(price) AS av...  \n",
       "4   The following columns are in the item table in...  \n",
       "5   \\nCREATE TABLE IF NOT EXIST item (\\nitem_id IN...  \n",
       "6   SELECT item_name * FROM item WHERE has_physica...  \n",
       "7   SELECT item.item_id, item.item_id, quantity FR...  \n",
       "8   The following columns are in the item_stock ta...  \n",
       "9   SELECT item_name * FROM item WHERE has_physica...  \n",
       "10  The following columns are in the item_price ta...  "
      ]
     },
     "execution_count": 20,
     "metadata": {},
     "output_type": "execute_result"
    }
   ],
   "source": [
    "vn.get_training_data()"
   ]
  },
  {
   "cell_type": "code",
   "execution_count": 23,
   "metadata": {},
   "outputs": [
    {
     "name": "stdout",
     "output_type": "stream",
     "text": [
      "SELECT DISTINCT stockroom_name FROM inventory.stockroom;\n",
      "  stockroom_name\n",
      "0       Pharmacy\n",
      "1          Store\n",
      "2       Casualty\n",
      "3            Lab\n",
      "4       Security\n",
      "5         triage\n"
     ]
    },
    {
     "data": {
      "image/png": "[encoded data removed]",
      "text/plain": [
       "<IPython.core.display.Image object>"
      ]
     },
     "metadata": {},
     "output_type": "display_data"
    },
    {
     "data": {
      "text/plain": [
       "('SELECT DISTINCT stockroom_name FROM inventory.stockroom;',\n",
       "   stockroom_name\n",
       " 0       Pharmacy\n",
       " 1          Store\n",
       " 2       Casualty\n",
       " 3            Lab\n",
       " 4       Security\n",
       " 5         triage,\n",
       " Figure({\n",
       "     'data': [{'alignmentgroup': 'True',\n",
       "               'hovertemplate': 'stockroom_name=%{x}<br>count=%{y}<extra></extra>',\n",
       "               'legendgroup': '',\n",
       "               'marker': {'color': '#636efa', 'pattern': {'shape': ''}},\n",
       "               'name': '',\n",
       "               'offsetgroup': '',\n",
       "               'orientation': 'v',\n",
       "               'showlegend': False,\n",
       "               'textposition': 'auto',\n",
       "               'type': 'bar',\n",
       "               'x': array(['Pharmacy', 'Store', 'Casualty', 'Lab', 'Security', 'triage'],\n",
       "                          dtype=object),\n",
       "               'xaxis': 'x',\n",
       "               'y': array([1, 1, 1, 1, 1, 1]),\n",
       "               'yaxis': 'y'}],\n",
       "     'layout': {'barmode': 'relative',\n",
       "                'legend': {'tracegroupgap': 0},\n",
       "                'template': '...',\n",
       "                'title': {'text': 'Distinct Stockroom Names'},\n",
       "                'xaxis': {'anchor': 'y', 'domain': [0.0, 1.0], 'title': {'text': 'stockroom_name'}},\n",
       "                'yaxis': {'anchor': 'x', 'domain': [0.0, 1.0], 'title': {'text': 'count'}}}\n",
       " }))"
      ]
     },
     "execution_count": 23,
     "metadata": {},
     "output_type": "execute_result"
    }
   ],
   "source": [
    "vn.ask(\"can you give me distinct stockroom names from stockroom table?\", allow_llm_to_see_data=True)"
   ]
  },
  {
   "cell_type": "code",
   "execution_count": 25,
   "metadata": {},
   "outputs": [
    {
     "name": "stdout",
     "output_type": "stream",
     "text": [
      "Your app is running at:\n",
      "http://localhost:8084\n",
      " * Serving Flask app 'vanna.flask'\n",
      " * Debug mode: on\n",
      "None\n",
      "{'function_name': 'get_storeroom_with_most_inventory', 'description': 'Which storeroom has the most inventory?', 'arguments': [], 'sql_template': 'SELECT item_stock.stockroom_id, stockroom_name, SUM(item_stock.quantity) AS total_quantity FROM item_stock INNER JOIN stockroom ON item_stock.stockroom_id = stockroom.stockroom_id GROUP BY item_stock.stockroom_id, stockroom_name ORDER BY total_quantity DESC LIMIT 1;', 'post_processing_code_template': ''}\n",
      "{}\n",
      "{}\n",
      "{}\n",
      "{'function_name': 'get_top_items_by_quantity', 'description': 'What are the names and the quantities of the items with the highest quantities (top {limit})?', 'arguments': [{'name': 'limit', 'description': 'The number of top items to retrieve based on quantity', 'general_type': 'STRING', 'is_user_editable': True}], 'sql_template': 'SELECT item_name, quantity FROM item INNER JOIN item_stock ON item.item_id = item_stock.item_id ORDER BY quantity DESC LIMIT {limit};', 'post_processing_code_template': ''}\n",
      "{}\n"
     ]
    }
   ],
   "source": [
    "app = VannaFlaskApp(vn, allow_llm_to_see_data=True)\n",
    "app.run()"
   ]
  }
 ],
 "metadata": {
  "kernelspec": {
   "display_name": ".vanna_venv",
   "language": "python",
   "name": "python3"
  },
  "language_info": {
   "codemirror_mode": {
    "name": "ipython",
    "version": 3
   },
   "file_extension": ".py",
   "mimetype": "text/x-python",
   "name": "python",
   "nbconvert_exporter": "python",
   "pygments_lexer": "ipython3",
   "version": "3.12.1"
  }
 },
 "nbformat": 4,
 "nbformat_minor": 2
}
